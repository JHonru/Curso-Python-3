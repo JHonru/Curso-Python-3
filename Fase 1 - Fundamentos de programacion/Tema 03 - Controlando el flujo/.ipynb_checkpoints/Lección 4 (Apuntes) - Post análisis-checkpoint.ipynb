{
 "cells": [
  {
   "cell_type": "markdown",
   "metadata": {},
   "source": [
    "# Ejemplo de cabecera"
   ]
  },
  {
   "cell_type": "code",
   "execution_count": 3,
   "metadata": {},
   "outputs": [
    {
     "name": "stdout",
     "output_type": "stream",
     "text": [
      "0 es un número par\n",
      "1 es un número impar\n",
      "2 es un número par\n",
      "3 es un número impar\n",
      "4 es un número par\n",
      "5 es un número impar\n",
      "6 es un número par\n",
      "7 es un número impar\n",
      "8 es un número par\n",
      "9 es un número impar\n",
      "10 es un número par\n",
      "11 es un número impar\n",
      "12 es un número par\n",
      "13 es un número impar\n",
      "14 es un número par\n",
      "15 es un número impar\n",
      "16 es un número par\n",
      "17 es un número impar\n",
      "18 es un número par\n",
      "19 es un número impar\n",
      "20 es un número par\n",
      "21 es un número impar\n",
      "22 es un número par\n",
      "23 es un número impar\n",
      "24 es un número par\n",
      "25 es un número impar\n",
      "26 es un número par\n",
      "27 es un número impar\n",
      "28 es un número par\n",
      "29 es un número impar\n",
      "30 es un número par\n",
      "31 es un número impar\n",
      "32 es un número par\n",
      "33 es un número impar\n",
      "34 es un número par\n",
      "35 es un número impar\n",
      "36 es un número par\n",
      "37 es un número impar\n",
      "38 es un número par\n",
      "39 es un número impar\n",
      "40 es un número par\n",
      "41 es un número impar\n",
      "42 es un número par\n",
      "43 es un número impar\n",
      "44 es un número par\n",
      "45 es un número impar\n",
      "46 es un número par\n",
      "47 es un número impar\n",
      "48 es un número par\n",
      "49 es un número impar\n",
      "50 es un número par\n"
     ]
    }
   ],
   "source": [
    "n = 0\n",
    "while n <= 50:\n",
    "    if (n % 2) == 0:\n",
    "        print(n,'es un número par')\n",
    "    else:\n",
    "        print(n,'es un número impar') \n",
    "    n = n + 1"
   ]
  }
 ],
 "metadata": {
  "kernelspec": {
   "display_name": "Python 3",
   "language": "python",
   "name": "python3"
  },
  "language_info": {
   "codemirror_mode": {
    "name": "ipython",
    "version": 3
   },
   "file_extension": ".py",
   "mimetype": "text/x-python",
   "name": "python",
   "nbconvert_exporter": "python",
   "pygments_lexer": "ipython3",
   "version": "3.6.1"
  }
 },
 "nbformat": 4,
 "nbformat_minor": 1
}
