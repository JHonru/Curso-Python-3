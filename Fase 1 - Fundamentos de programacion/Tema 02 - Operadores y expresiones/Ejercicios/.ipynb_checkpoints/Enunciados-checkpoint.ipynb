{
 "cells": [
  {
   "cell_type": "markdown",
   "metadata": {},
   "source": [
    "# Tema 02: Operadores y expresiones (Enunciados)\n",
    "*Nota: Estos ejercicios son optativos para hacer al final de la unidad y están pensados para apoyar tu aprendizaje*."
   ]
  },
  {
   "cell_type": "markdown",
   "metadata": {},
   "source": [
    "**1) Realiza un programa que lea 2 números por teclado y determine los siguientes aspectos (es suficiene con mostrar True o False):**\n",
    "* Si los dos números son iguales\n",
    "* Si los dos números son diferentes\n",
    "* Si el primero es mayor que el segundo\n",
    "* Si el segundo es mayor o igual que el primero"
   ]
  },
  {
   "cell_type": "code",
   "execution_count": 2,
   "metadata": {},
<<<<<<< HEAD
   "outputs": [
    {
     "name": "stdout",
     "output_type": "stream",
     "text": [
      "Introduce un número:3\n",
      "Introduce otro número:2\n",
      "Los números no son iguales\n",
      "El primer número 3 es mayor...\n"
     ]
    }
   ],
   "source": [
    "# Completa el ejercicio aquí\n",
    "num1 = int(input(\"Introduce un número:\"))\n",
    "num2 = int(input(\"Introduce otro número:\"))\n",
    "if num1==num2:\n",
    "    print(\"Los 2 números son iguales\")\n",
    "else:\n",
    "    print(\"Los números no son iguales\")\n",
    "    if num1>num2:\n",
    "        print(\"El primer número\",num1,\"es mayor...\")\n",
    "    else:\n",
    "        print(\"El segundo número\",num2,\"es mayor...\")"
=======
   "outputs": [],
   "source": [
    "# Completa el ejercicio aquí\n"
>>>>>>> 61c86ce6427680dc281382b839013aa9859cfb98
   ]
  },
  {
   "cell_type": "markdown",
   "metadata": {},
   "source": [
    "**2) Utilizando operadores lógicos, determina si una cadena de texto introducida por el usuario tiene una longitud mayor o igual que 3 y a su vez es menor que 10 (es suficiene con mostrar True o False):**"
   ]
  },
  {
   "cell_type": "code",
<<<<<<< HEAD
   "execution_count": 9,
   "metadata": {
    "collapsed": true
   },
   "outputs": [
    {
     "name": "stdout",
     "output_type": "stream",
     "text": [
      "Introduce un texto: ñlasjdlñajsdlñajdñlasjñlfhalñfhalñsjd\n",
      "False\n"
     ]
    }
   ],
   "source": [
    "# Completa el ejercicio aquí\n",
    "vale=True\n",
    "texto = input(\"Introduce un texto: \")\n",
    "if not (len(texto)>=3 and len(texto)<10):\n",
    "    vale = False\n",
    "print (vale)"
=======
   "execution_count": 3,
   "metadata": {},
   "outputs": [],
   "source": [
    "# Completa el ejercicio aquí\n"
>>>>>>> 61c86ce6427680dc281382b839013aa9859cfb98
   ]
  },
  {
   "cell_type": "markdown",
   "metadata": {},
   "source": [
    "**3) Realiza un programa que cumpla el siguiente algoritmo utilizando siempre que sea posible operadores en asignación:**\n",
    "* Guarda en una variable numero_magico el valor 12345679 (sin el 8)\n",
    "* Lee por pantalla otro numero_usuario, especifica que sea entre 1 y 9 (asegúrate que es un número)\n",
    "* Multiplica el numero_usuario por 9 en sí mismo\n",
    "* Multiplica el numero_magico por el numero_usuario en sí mismo\n",
    "* Finalmente muestra el valor final del numero_magico por pantalla\n"
   ]
  },
  {
   "cell_type": "code",
<<<<<<< HEAD
   "execution_count": null,
   "metadata": {},
   "outputs": [],
   "source": [
    "# Completa el ejercicio aquí\n",
    "num_magico=12345679\n",
    "while True:\n",
    "    num_user = int(input(\"Introduce un número del 0 al 9: \"))\n",
    "    if num_user<0 and num_user>9:\n",
    "         print(\"El número no está en el rango solicitado\")\n",
    "    else:\n",
    "        num_user=num_user*9\n",
    "        num_magico=num_magico*num_user\n",
    "        break\n",
    "print(num_magico)"
=======
   "execution_count": 4,
   "metadata": {},
   "outputs": [],
   "source": [
    "# Completa el ejercicio aquí\n"
>>>>>>> 61c86ce6427680dc281382b839013aa9859cfb98
   ]
  }
 ],
 "metadata": {
  "anaconda-cloud": {},
  "kernelspec": {
   "display_name": "Python 3",
   "language": "python",
   "name": "python3"
  },
  "language_info": {
   "codemirror_mode": {
    "name": "ipython",
    "version": 3
   },
   "file_extension": ".py",
   "mimetype": "text/x-python",
   "name": "python",
   "nbconvert_exporter": "python",
   "pygments_lexer": "ipython3",
   "version": "3.6.1"
  }
 },
 "nbformat": 4,
 "nbformat_minor": 1
}
